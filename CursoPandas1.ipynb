{
  "nbformat": 4,
  "nbformat_minor": 0,
  "metadata": {
    "colab": {
      "provenance": [],
      "authorship_tag": "ABX9TyMz7+vCN5rOEFKCR0Xo/DZ8",
      "include_colab_link": true
    },
    "kernelspec": {
      "name": "python3",
      "display_name": "Python 3"
    },
    "language_info": {
      "name": "python"
    }
  },
  "cells": [
    {
      "cell_type": "markdown",
      "metadata": {
        "id": "view-in-github",
        "colab_type": "text"
      },
      "source": [
        "<a href=\"https://colab.research.google.com/github/abfx2001/abfx2001/blob/main/CursoPandas1.ipynb\" target=\"_parent\"><img src=\"https://colab.research.google.com/assets/colab-badge.svg\" alt=\"Open In Colab\"/></a>"
      ]
    },
    {
      "cell_type": "markdown",
      "source": [],
      "metadata": {
        "id": "KLdjNpfo78G5"
      }
    },
    {
      "cell_type": "markdown",
      "source": [
        "#Curso de Extensão de Como usar a Biblioteca Pandas do Python para análise de dados\n",
        "\n",
        "> Utilizando o Google Colab para fazer análise de dados da internet."
      ],
      "metadata": {
        "id": "6SH94PLq7-6h"
      }
    },
    {
      "cell_type": "code",
      "source": [
        "# Importando biblioteca pandas no Python\n",
        "import pandas as pd\n",
        "\n",
        "combustiveis_df = pd.read_excel(\"ca-2021-02.xlsx\")\n",
        "#combustiveis_df = pd.read_csv(\"ca-2021-02v2.csv\")"
      ],
      "metadata": {
        "id": "GFxKbZw89Uht"
      },
      "execution_count": null,
      "outputs": []
    },
    {
      "cell_type": "code",
      "source": [
        "# Usa o print para ver o dataframe!\n",
        "print(combustiveis_df)"
      ],
      "metadata": {
        "id": "JTXimdua-bb7"
      },
      "execution_count": null,
      "outputs": []
    },
    {
      "cell_type": "code",
      "source": [
        "# Display mostra mais organizado!\n",
        "display(combustiveis_df)"
      ],
      "metadata": {
        "id": "1X4xs7fd-eLF"
      },
      "execution_count": null,
      "outputs": []
    },
    {
      "cell_type": "code",
      "source": [
        "# Exibe as primeiras 5 linhas!\n",
        "display(combustiveis_df.head())"
      ],
      "metadata": {
        "id": "grq6QEqu-pl3"
      },
      "execution_count": null,
      "outputs": []
    },
    {
      "cell_type": "code",
      "source": [
        "# Quero, na verdade, exibir as primeiras 15 linhas\n",
        "display(combustiveis_df.head(15))"
      ],
      "metadata": {
        "id": "18y7ki1X-zlz"
      },
      "execution_count": null,
      "outputs": []
    },
    {
      "cell_type": "code",
      "source": [
        "# Comondos Dataframe.shape e Dataframe. describe\n",
        "print(\"(linhas, colunas)\")\n",
        "print(combustiveis_df.shape)\n",
        "# mostra o número de linhas e colunas (linhas, colunas)"
      ],
      "metadata": {
        "id": "X5wg1HIX-4yD"
      },
      "execution_count": null,
      "outputs": []
    },
    {
      "cell_type": "code",
      "source": [
        "# Quais são as colunas e que tipo de dados cada um tem...\n",
        "print(combustiveis_df.info())"
      ],
      "metadata": {
        "id": "cxahjtQM_lBk"
      },
      "execution_count": null,
      "outputs": []
    },
    {
      "cell_type": "code",
      "source": [
        "# Função DataFrame.describe() faz as estatísticas básicas\n",
        "print(combustiveis_df.describe())"
      ],
      "metadata": {
        "id": "mbsANFsk_tDp"
      },
      "execution_count": null,
      "outputs": []
    },
    {
      "cell_type": "code",
      "source": [
        "# filtrar por apenas uma COLUNA\n",
        "display(combustiveis_df['Revenda'])"
      ],
      "metadata": {
        "id": "oFUwb7iSALKa"
      },
      "execution_count": null,
      "outputs": []
    },
    {
      "cell_type": "code",
      "source": [
        "# Aqui criamos um novo dataframe apenas com as colunas que eu quero..\n",
        "ca_df = combustiveis_df[['Revenda', 'Municipio', 'Produto', 'Valor de Venda']] \n",
        "display(ca_df)"
      ],
      "metadata": {
        "id": "XrL1xr7OAYTl"
      },
      "execution_count": null,
      "outputs": []
    },
    {
      "cell_type": "code",
      "source": [
        "# Exibe a 4a. linha\n",
        "display(ca_df.loc[3])"
      ],
      "metadata": {
        "id": "ZXMDG8sdAtLe"
      },
      "execution_count": null,
      "outputs": []
    },
    {
      "cell_type": "code",
      "source": [
        "# Exibir da 10a. linha até a 20a.linha\n",
        "display(ca_df.loc[9:19])"
      ],
      "metadata": {
        "id": "mFnPNstPAzwU"
      },
      "execution_count": null,
      "outputs": []
    },
    {
      "cell_type": "code",
      "source": [
        "# Criar um dataframe gas_df contendo \n",
        "# apenas as 4 colunas (Revenda, Municipio, Produto, Valor de Venda)\n",
        "# somente com combustível sendo GASOLINA e exibir na tela\n",
        "gas_df = ca_df.loc[ca_df['Produto'] == 'GASOLINA']\n",
        "display(gas_df)\n",
        "print(\"=== Maior Valor de Venda ===\")\n",
        "display(gas_df['Valor de Venda'].max())"
      ],
      "metadata": {
        "id": "OWcO0qFbA7S6"
      },
      "execution_count": null,
      "outputs": []
    }
  ]
}